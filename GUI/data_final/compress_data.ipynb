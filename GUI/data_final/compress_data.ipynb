{
 "cells": [
  {
   "cell_type": "code",
   "execution_count": 1,
   "metadata": {},
   "outputs": [],
   "source": [
    "import os\n",
    "import sys\n",
    "import pickle\n",
    "\n",
    "path = os.getcwd().split(os.sep + 'GUI')[0]\n",
    "if path not in sys.path:\n",
    "    sys.path.append(path)"
   ]
  },
  {
   "cell_type": "code",
   "execution_count": 9,
   "metadata": {},
   "outputs": [
    {
     "name": "stdout",
     "output_type": "stream",
     "text": [
      "file found\n",
      "5\n",
      "[array([[0.00332256, 0.        ]]), array([[2.70448936e-25, 4.39105047e-01, 0.00000000e+00, 0.00000000e+00,\n",
      "        0.00000000e+00, 0.00000000e+00]]), array([[7.35457593e-13, 9.37128643e-01, 0.00000000e+00, 0.00000000e+00,\n",
      "        0.00000000e+00, 0.00000000e+00]])]\n",
      "file found\n",
      "5\n",
      "[array([[0.00397136, 0.        ]]), array([[0.10038155, 0.18451236, 0.        , 0.        , 0.        ,\n",
      "        0.        ]]), array([[0.44806594, 0.60747405, 0.        , 0.        , 0.        ,\n",
      "        0.        ]])]\n",
      "file found\n",
      "5\n",
      "[array([[0.01862507, 0.        ]]), array([[3.61108635e-01, 3.88336644e-24, 0.00000000e+00, 0.00000000e+00,\n",
      "        0.00000000e+00, 0.00000000e+00]]), array([[8.49833673e-01, 2.78688588e-12, 0.00000000e+00, 0.00000000e+00,\n",
      "        0.00000000e+00, 0.00000000e+00]])]\n",
      "file found\n",
      "5\n",
      "[array([[0.01884049, 0.        ]]), array([[0.34848636, 0.00620559, 0.        , 0.        , 0.        ,\n",
      "        0.        ]]), array([[0.83484892, 0.11140546, 0.        , 0.        , 0.        ,\n",
      "        0.        ]])]\n"
     ]
    }
   ],
   "source": [
    "for file_ in ['control_1.pickle', 'control_2.pickle', 'control_3.pickle', 'control_4.pickle']:\n",
    "\n",
    "    if os.path.isfile(file_) :\n",
    "        print(\"file found\")\n",
    "\n",
    "        with open(file_,'rb') as f:\n",
    "            load_array = pickle.load(f)\n",
    "\n",
    "        print(len(load_array))\n",
    "\n",
    "        bestControl_ = load_array[0]\n",
    "        bestState_ = load_array[1]\n",
    "        cost_ = load_array[2]\n",
    "        costnode_ = load_array[3]\n",
    "        weights_ = load_array[4]\n",
    "        \n",
    "        with open(file_,'wb') as f:\n",
    "            pickle.dump([bestControl_, bestState_, cost_, costnode_, weights_], f)"
   ]
  },
  {
   "cell_type": "code",
   "execution_count": null,
   "metadata": {},
   "outputs": [],
   "source": []
  }
 ],
 "metadata": {
  "interpreter": {
   "hash": "31f2aee4e71d21fbe5cf8b01ff0e069b9275f58929596ceb00d14d90e3e16cd6"
  },
  "kernelspec": {
   "display_name": "Python 3 (ipykernel)",
   "language": "python",
   "name": "python3"
  },
  "language_info": {
   "codemirror_mode": {
    "name": "ipython",
    "version": 3
   },
   "file_extension": ".py",
   "mimetype": "text/x-python",
   "name": "python",
   "nbconvert_exporter": "python",
   "pygments_lexer": "ipython3",
   "version": "3.9.7"
  }
 },
 "nbformat": 4,
 "nbformat_minor": 4
}
